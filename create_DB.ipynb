{
 "cells": [
  {
   "cell_type": "markdown",
   "metadata": {},
   "source": [
    "## Importar bibliotecas"
   ]
  },
  {
   "cell_type": "code",
   "execution_count": 2,
   "metadata": {},
   "outputs": [],
   "source": [
    "import pymysql\n",
    "import pandas as pd\n",
    "import numpy as np"
   ]
  },
  {
   "cell_type": "markdown",
   "metadata": {},
   "source": [
    "## Crear la base de datos"
   ]
  },
  {
   "cell_type": "code",
   "execution_count": 2,
   "metadata": {},
   "outputs": [],
   "source": [
    "# Creamos una conección\n",
    "conn = pymysql.connect(\n",
    "    host='localhost',\n",
    "    user='root',\n",
    "    passwd='1234567890'\n",
    ")\n",
    "\n",
    "cur = conn.cursor()\n",
    "\n",
    "# Se elimina la base de datos si exixte y se vuelve a crear\n",
    "cur.execute(\"DROP DATABASE IF EXISTS streaming_platforms\")\n",
    "cur.execute(\"CREATE DATABASE streaming_platforms\")\n",
    "\n",
    "conn.close()"
   ]
  },
  {
   "cell_type": "markdown",
   "metadata": {},
   "source": [
    "## Crear tablas"
   ]
  },
  {
   "cell_type": "code",
   "execution_count": 3,
   "metadata": {},
   "outputs": [],
   "source": [
    "# Creamos una conección a la base de datos\n",
    "conn = pymysql.connect(\n",
    "    host='localhost',\n",
    "    user='root',\n",
    "    passwd='1234567890',\n",
    "    database = 'streaming_platforms'\n",
    ")\n",
    "\n",
    "cur = conn.cursor()"
   ]
  },
  {
   "cell_type": "code",
   "execution_count": 4,
   "metadata": {},
   "outputs": [
    {
     "data": {
      "text/plain": [
       "0"
      ]
     },
     "execution_count": 4,
     "metadata": {},
     "output_type": "execute_result"
    }
   ],
   "source": [
    "query = \"\"\"\n",
    "CREATE TABLE Actor(\n",
    "    IdActor INT NOT NULL,\n",
    "    Name VARCHAR(110),\n",
    "    PRIMARY KEY (IdActor)\n",
    ");\n",
    "\"\"\"\n",
    "cur.execute(query)"
   ]
  },
  {
   "cell_type": "code",
   "execution_count": 5,
   "metadata": {},
   "outputs": [
    {
     "data": {
      "text/plain": [
       "0"
      ]
     },
     "execution_count": 5,
     "metadata": {},
     "output_type": "execute_result"
    }
   ],
   "source": [
    "query = \"\"\"\n",
    "CREATE TABLE Platform(\n",
    "    IdPlatform INT NOT NULL,\n",
    "    Platform VARCHAR(10),\n",
    "    PRIMARY KEY (IdPlatform)\n",
    ");\n",
    "\"\"\"\n",
    "cur.execute(query)"
   ]
  },
  {
   "cell_type": "code",
   "execution_count": 6,
   "metadata": {},
   "outputs": [
    {
     "data": {
      "text/plain": [
       "0"
      ]
     },
     "execution_count": 6,
     "metadata": {},
     "output_type": "execute_result"
    }
   ],
   "source": [
    "query = \"\"\"\n",
    "CREATE TABLE Genr(\n",
    "    IdGenr INT NOT NULL AUTO_INCREMENT,\n",
    "    Genr VARCHAR(30),\n",
    "    PRIMARY KEY (IdGenr)\n",
    ");\n",
    "\"\"\"\n",
    "cur.execute(query)"
   ]
  },
  {
   "cell_type": "code",
   "execution_count": 7,
   "metadata": {},
   "outputs": [
    {
     "data": {
      "text/plain": [
       "0"
      ]
     },
     "execution_count": 7,
     "metadata": {},
     "output_type": "execute_result"
    }
   ],
   "source": [
    "query = \"\"\"\n",
    "CREATE TABLE Types(\n",
    "    IdType INT NOT NULL AUTO_INCREMENT,\n",
    "    Type VARCHAR(15),\n",
    "    PRIMARY KEY (IdType)\n",
    ");\n",
    "\"\"\"\n",
    "cur.execute(query)"
   ]
  },
  {
   "cell_type": "code",
   "execution_count": 8,
   "metadata": {},
   "outputs": [
    {
     "data": {
      "text/plain": [
       "0"
      ]
     },
     "execution_count": 8,
     "metadata": {},
     "output_type": "execute_result"
    }
   ],
   "source": [
    "query = \"\"\"\n",
    "CREATE TABLE Movie(\n",
    "    IdMovie INT NOT NULL,\n",
    "    Title VARCHAR(150),\n",
    "    IdType INT NOT NULL,\n",
    "    IdPlatform INT NOT NULL,\n",
    "    ReleaseYear INT(5),\n",
    "    Duration INT(4),\n",
    "    TimeUnit VARCHAR(10),\n",
    "    PRIMARY KEY (IdMovie),\n",
    "    FOREIGN KEY (IdType) REFERENCES TypeS(IdType),\n",
    "    FOREIGN KEY (IdPlatform) REFERENCES Platform(IdPlatform)\n",
    ");\n",
    "\"\"\"\n",
    "cur.execute(query)"
   ]
  },
  {
   "cell_type": "code",
   "execution_count": 9,
   "metadata": {},
   "outputs": [
    {
     "data": {
      "text/plain": [
       "0"
      ]
     },
     "execution_count": 9,
     "metadata": {},
     "output_type": "execute_result"
    }
   ],
   "source": [
    "query = \"\"\"\n",
    "CREATE TABLE Movie_Actor(\n",
    "    IdMovie INT NOT NULL,\n",
    "    IdActor INT NOT NULL,\n",
    "    FOREIGN KEY (IdMovie) REFERENCES Movie(IdMovie),\n",
    "    FOREIGN KEY (IdActor) REFERENCES Actor(IdActor)\n",
    ");\n",
    "\"\"\"\n",
    "cur.execute(query)"
   ]
  },
  {
   "cell_type": "code",
   "execution_count": 10,
   "metadata": {},
   "outputs": [
    {
     "data": {
      "text/plain": [
       "0"
      ]
     },
     "execution_count": 10,
     "metadata": {},
     "output_type": "execute_result"
    }
   ],
   "source": [
    "query = \"\"\"\n",
    "CREATE TABLE Movie_Genr(\n",
    "    IdMovie INT NOT NULL,\n",
    "    IdGenr INT NOT NULL,\n",
    "    FOREIGN KEY (IdMovie) REFERENCES Movie(IdMovie),\n",
    "    FOREIGN KEY (IdGenr) REFERENCES Genr(IdGenr)\n",
    ");\n",
    "\"\"\"\n",
    "cur.execute(query)"
   ]
  },
  {
   "cell_type": "markdown",
   "metadata": {},
   "source": [
    "## Ingestar datos"
   ]
  },
  {
   "cell_type": "code",
   "execution_count": 11,
   "metadata": {},
   "outputs": [
    {
     "data": {
      "text/html": [
       "<div>\n",
       "<style scoped>\n",
       "    .dataframe tbody tr th:only-of-type {\n",
       "        vertical-align: middle;\n",
       "    }\n",
       "\n",
       "    .dataframe tbody tr th {\n",
       "        vertical-align: top;\n",
       "    }\n",
       "\n",
       "    .dataframe thead th {\n",
       "        text-align: right;\n",
       "    }\n",
       "</style>\n",
       "<table border=\"1\" class=\"dataframe\">\n",
       "  <thead>\n",
       "    <tr style=\"text-align: right;\">\n",
       "      <th></th>\n",
       "      <th>IdType</th>\n",
       "      <th>Type</th>\n",
       "    </tr>\n",
       "  </thead>\n",
       "  <tbody>\n",
       "    <tr>\n",
       "      <th>0</th>\n",
       "      <td>1</td>\n",
       "      <td>Movie</td>\n",
       "    </tr>\n",
       "    <tr>\n",
       "      <th>1</th>\n",
       "      <td>2</td>\n",
       "      <td>TV Show</td>\n",
       "    </tr>\n",
       "  </tbody>\n",
       "</table>\n",
       "</div>"
      ],
      "text/plain": [
       "   IdType     Type\n",
       "0       1    Movie\n",
       "1       2  TV Show"
      ]
     },
     "execution_count": 11,
     "metadata": {},
     "output_type": "execute_result"
    }
   ],
   "source": [
    "Type = pd.read_csv('./Tablas/Type.csv')\n",
    "Type"
   ]
  },
  {
   "cell_type": "code",
   "execution_count": 12,
   "metadata": {},
   "outputs": [],
   "source": [
    "for i in range(Type.shape[0]):\n",
    "    query =\"\"\"\n",
    "    INSERT INTO Types (IdType, Type)\n",
    "    VALUES ({},'{}');\n",
    "    \"\"\".format(Type.IdType.iloc[i],Type.Type.iloc[i])\n",
    "    cur.execute(query)\n",
    "conn.commit()"
   ]
  },
  {
   "cell_type": "code",
   "execution_count": 13,
   "metadata": {},
   "outputs": [
    {
     "data": {
      "text/html": [
       "<div>\n",
       "<style scoped>\n",
       "    .dataframe tbody tr th:only-of-type {\n",
       "        vertical-align: middle;\n",
       "    }\n",
       "\n",
       "    .dataframe tbody tr th {\n",
       "        vertical-align: top;\n",
       "    }\n",
       "\n",
       "    .dataframe thead th {\n",
       "        text-align: right;\n",
       "    }\n",
       "</style>\n",
       "<table border=\"1\" class=\"dataframe\">\n",
       "  <thead>\n",
       "    <tr style=\"text-align: right;\">\n",
       "      <th></th>\n",
       "      <th>IdPlatform</th>\n",
       "      <th>Platform</th>\n",
       "    </tr>\n",
       "  </thead>\n",
       "  <tbody>\n",
       "    <tr>\n",
       "      <th>0</th>\n",
       "      <td>1</td>\n",
       "      <td>Amazon</td>\n",
       "    </tr>\n",
       "    <tr>\n",
       "      <th>1</th>\n",
       "      <td>2</td>\n",
       "      <td>Disney</td>\n",
       "    </tr>\n",
       "    <tr>\n",
       "      <th>2</th>\n",
       "      <td>3</td>\n",
       "      <td>Hulu</td>\n",
       "    </tr>\n",
       "    <tr>\n",
       "      <th>3</th>\n",
       "      <td>4</td>\n",
       "      <td>Netflix</td>\n",
       "    </tr>\n",
       "  </tbody>\n",
       "</table>\n",
       "</div>"
      ],
      "text/plain": [
       "   IdPlatform Platform\n",
       "0           1   Amazon\n",
       "1           2   Disney\n",
       "2           3     Hulu\n",
       "3           4  Netflix"
      ]
     },
     "execution_count": 13,
     "metadata": {},
     "output_type": "execute_result"
    }
   ],
   "source": [
    "Platform = pd.read_csv('./Tablas/Platform.csv')\n",
    "Platform"
   ]
  },
  {
   "cell_type": "code",
   "execution_count": 14,
   "metadata": {},
   "outputs": [],
   "source": [
    "for i in range(Platform.shape[0]):\n",
    "    query =\"\"\"\n",
    "    INSERT INTO Platform (IdPlatform, Platform)\n",
    "    VALUES ({},'{}');\n",
    "    \"\"\".format(Platform.IdPlatform.iloc[i],Platform.Platform.iloc[i])\n",
    "    cur.execute(query)\n",
    "conn.commit()"
   ]
  },
  {
   "cell_type": "code",
   "execution_count": 15,
   "metadata": {},
   "outputs": [
    {
     "data": {
      "text/html": [
       "<div>\n",
       "<style scoped>\n",
       "    .dataframe tbody tr th:only-of-type {\n",
       "        vertical-align: middle;\n",
       "    }\n",
       "\n",
       "    .dataframe tbody tr th {\n",
       "        vertical-align: top;\n",
       "    }\n",
       "\n",
       "    .dataframe thead th {\n",
       "        text-align: right;\n",
       "    }\n",
       "</style>\n",
       "<table border=\"1\" class=\"dataframe\">\n",
       "  <thead>\n",
       "    <tr style=\"text-align: right;\">\n",
       "      <th></th>\n",
       "      <th>IdActor</th>\n",
       "      <th>Name</th>\n",
       "    </tr>\n",
       "  </thead>\n",
       "  <tbody>\n",
       "    <tr>\n",
       "      <th>0</th>\n",
       "      <td>1</td>\n",
       "      <td>Desconocido</td>\n",
       "    </tr>\n",
       "    <tr>\n",
       "      <th>1</th>\n",
       "      <td>2</td>\n",
       "      <td>Richard Widmark</td>\n",
       "    </tr>\n",
       "    <tr>\n",
       "      <th>2</th>\n",
       "      <td>3</td>\n",
       "      <td>NaN</td>\n",
       "    </tr>\n",
       "  </tbody>\n",
       "</table>\n",
       "</div>"
      ],
      "text/plain": [
       "   IdActor             Name\n",
       "0        1      Desconocido\n",
       "1        2  Richard Widmark\n",
       "2        3              NaN"
      ]
     },
     "execution_count": 15,
     "metadata": {},
     "output_type": "execute_result"
    }
   ],
   "source": [
    "Actor = pd.read_csv('./Tablas/Actor.csv')\n",
    "Actor.iloc[0,1] = 'Desconocido'\n",
    "Actor.head(3)"
   ]
  },
  {
   "cell_type": "code",
   "execution_count": 16,
   "metadata": {},
   "outputs": [],
   "source": [
    "for i in range(Actor.shape[0]):\n",
    "    query =\"\"\"\n",
    "    INSERT INTO Actor (IdActor, Name)\n",
    "    VALUES ({},\"{}\");\n",
    "    \"\"\".format(Actor.IdActor.iloc[i],Actor.Name.iloc[i])\n",
    "    cur.execute(query)\n",
    "conn.commit()"
   ]
  },
  {
   "cell_type": "code",
   "execution_count": 17,
   "metadata": {},
   "outputs": [
    {
     "data": {
      "text/html": [
       "<div>\n",
       "<style scoped>\n",
       "    .dataframe tbody tr th:only-of-type {\n",
       "        vertical-align: middle;\n",
       "    }\n",
       "\n",
       "    .dataframe tbody tr th {\n",
       "        vertical-align: top;\n",
       "    }\n",
       "\n",
       "    .dataframe thead th {\n",
       "        text-align: right;\n",
       "    }\n",
       "</style>\n",
       "<table border=\"1\" class=\"dataframe\">\n",
       "  <thead>\n",
       "    <tr style=\"text-align: right;\">\n",
       "      <th></th>\n",
       "      <th>IdGenr</th>\n",
       "      <th>Genr</th>\n",
       "    </tr>\n",
       "  </thead>\n",
       "  <tbody>\n",
       "    <tr>\n",
       "      <th>0</th>\n",
       "      <td>1</td>\n",
       "      <td>Crime</td>\n",
       "    </tr>\n",
       "    <tr>\n",
       "      <th>1</th>\n",
       "      <td>2</td>\n",
       "      <td>Science Fiction</td>\n",
       "    </tr>\n",
       "    <tr>\n",
       "      <th>2</th>\n",
       "      <td>3</td>\n",
       "      <td>Crime TV Shows</td>\n",
       "    </tr>\n",
       "  </tbody>\n",
       "</table>\n",
       "</div>"
      ],
      "text/plain": [
       "   IdGenr             Genr\n",
       "0       1            Crime\n",
       "1       2  Science Fiction\n",
       "2       3   Crime TV Shows"
      ]
     },
     "execution_count": 17,
     "metadata": {},
     "output_type": "execute_result"
    }
   ],
   "source": [
    "Genr = pd.read_csv('./Tablas/Genr.csv')\n",
    "Genr.head(3)"
   ]
  },
  {
   "cell_type": "code",
   "execution_count": 18,
   "metadata": {},
   "outputs": [],
   "source": [
    "for i in range(Genr.shape[0]):\n",
    "    query =\"\"\"\n",
    "    INSERT INTO Genr (IdGenr, Genr)\n",
    "    VALUES ({},\"{}\");\n",
    "    \"\"\".format(Genr.IdGenr.iloc[i],Genr.Genr.iloc[i])\n",
    "    cur.execute(query)\n",
    "conn.commit()"
   ]
  },
  {
   "cell_type": "code",
   "execution_count": 19,
   "metadata": {},
   "outputs": [
    {
     "data": {
      "text/html": [
       "<div>\n",
       "<style scoped>\n",
       "    .dataframe tbody tr th:only-of-type {\n",
       "        vertical-align: middle;\n",
       "    }\n",
       "\n",
       "    .dataframe tbody tr th {\n",
       "        vertical-align: top;\n",
       "    }\n",
       "\n",
       "    .dataframe thead th {\n",
       "        text-align: right;\n",
       "    }\n",
       "</style>\n",
       "<table border=\"1\" class=\"dataframe\">\n",
       "  <thead>\n",
       "    <tr style=\"text-align: right;\">\n",
       "      <th></th>\n",
       "      <th>IdMovie</th>\n",
       "      <th>Title</th>\n",
       "      <th>IdType</th>\n",
       "      <th>IdPlatform</th>\n",
       "      <th>ReleaseYear</th>\n",
       "      <th>Duration</th>\n",
       "      <th>TimeUnit</th>\n",
       "    </tr>\n",
       "  </thead>\n",
       "  <tbody>\n",
       "    <tr>\n",
       "      <th>0</th>\n",
       "      <td>1</td>\n",
       "      <td>The Grand Seduction</td>\n",
       "      <td>1</td>\n",
       "      <td>1</td>\n",
       "      <td>2014</td>\n",
       "      <td>113.0</td>\n",
       "      <td>min</td>\n",
       "    </tr>\n",
       "    <tr>\n",
       "      <th>1</th>\n",
       "      <td>2</td>\n",
       "      <td>Take Care Good Night</td>\n",
       "      <td>1</td>\n",
       "      <td>1</td>\n",
       "      <td>2018</td>\n",
       "      <td>110.0</td>\n",
       "      <td>min</td>\n",
       "    </tr>\n",
       "    <tr>\n",
       "      <th>2</th>\n",
       "      <td>3</td>\n",
       "      <td>Secrets of Deception</td>\n",
       "      <td>1</td>\n",
       "      <td>1</td>\n",
       "      <td>2017</td>\n",
       "      <td>74.0</td>\n",
       "      <td>min</td>\n",
       "    </tr>\n",
       "  </tbody>\n",
       "</table>\n",
       "</div>"
      ],
      "text/plain": [
       "   IdMovie                 Title  IdType  IdPlatform  ReleaseYear  Duration  \\\n",
       "0        1   The Grand Seduction       1           1         2014     113.0   \n",
       "1        2  Take Care Good Night       1           1         2018     110.0   \n",
       "2        3  Secrets of Deception       1           1         2017      74.0   \n",
       "\n",
       "  TimeUnit  \n",
       "0      min  \n",
       "1      min  \n",
       "2      min  "
      ]
     },
     "execution_count": 19,
     "metadata": {},
     "output_type": "execute_result"
    }
   ],
   "source": [
    "Movie = pd.read_csv('./Tablas/Movie.csv')\n",
    "Movie.head(3)"
   ]
  },
  {
   "cell_type": "code",
   "execution_count": 20,
   "metadata": {},
   "outputs": [
    {
     "name": "stdout",
     "output_type": "stream",
     "text": [
      "<class 'pandas.core.frame.DataFrame'>\n",
      "RangeIndex: 22998 entries, 0 to 22997\n",
      "Data columns (total 7 columns):\n",
      " #   Column       Non-Null Count  Dtype  \n",
      "---  ------       --------------  -----  \n",
      " 0   IdMovie      22998 non-null  int64  \n",
      " 1   Title        22998 non-null  object \n",
      " 2   IdType       22998 non-null  int64  \n",
      " 3   IdPlatform   22998 non-null  int64  \n",
      " 4   ReleaseYear  22998 non-null  int64  \n",
      " 5   Duration     22817 non-null  float64\n",
      " 6   TimeUnit     22998 non-null  object \n",
      "dtypes: float64(1), int64(4), object(2)\n",
      "memory usage: 1.2+ MB\n"
     ]
    }
   ],
   "source": [
    "Movie.info()"
   ]
  },
  {
   "cell_type": "code",
   "execution_count": 21,
   "metadata": {},
   "outputs": [],
   "source": [
    "Movie.Duration.fillna('NULL', inplace=True)"
   ]
  },
  {
   "cell_type": "code",
   "execution_count": 22,
   "metadata": {},
   "outputs": [],
   "source": [
    "for i in range(Movie.shape[0]):\n",
    "    if Movie.Duration.iloc[i] != 'NULL':\n",
    "        duration = int(Movie.Duration.iloc[i])\n",
    "    else:\n",
    "        duration = 'NULL'\n",
    "    \n",
    "    query =\"\"\"\n",
    "    INSERT INTO Movie (IdMovie, Title, IdType, IdPlatform, ReleaseYear, Duration, TimeUnit)\n",
    "    VALUES ({},\"{}\",{},{},{},{},\"{}\");\n",
    "    \"\"\".format(Movie.IdMovie.iloc[i], str(Movie.Title.iloc[i]), \n",
    "               Movie.IdType.iloc[i], Movie.IdPlatform.iloc[i], \n",
    "               Movie.ReleaseYear.iloc[i], duration, \n",
    "               str(Movie.TimeUnit.iloc[i]))\n",
    "    cur.execute(query)\n",
    "conn.commit()"
   ]
  },
  {
   "cell_type": "code",
   "execution_count": 23,
   "metadata": {},
   "outputs": [
    {
     "data": {
      "text/html": [
       "<div>\n",
       "<style scoped>\n",
       "    .dataframe tbody tr th:only-of-type {\n",
       "        vertical-align: middle;\n",
       "    }\n",
       "\n",
       "    .dataframe tbody tr th {\n",
       "        vertical-align: top;\n",
       "    }\n",
       "\n",
       "    .dataframe thead th {\n",
       "        text-align: right;\n",
       "    }\n",
       "</style>\n",
       "<table border=\"1\" class=\"dataframe\">\n",
       "  <thead>\n",
       "    <tr style=\"text-align: right;\">\n",
       "      <th></th>\n",
       "      <th>IdMovie</th>\n",
       "      <th>IdActor</th>\n",
       "    </tr>\n",
       "  </thead>\n",
       "  <tbody>\n",
       "    <tr>\n",
       "      <th>0</th>\n",
       "      <td>1</td>\n",
       "      <td>48068</td>\n",
       "    </tr>\n",
       "    <tr>\n",
       "      <th>1</th>\n",
       "      <td>1</td>\n",
       "      <td>49592</td>\n",
       "    </tr>\n",
       "    <tr>\n",
       "      <th>2</th>\n",
       "      <td>1</td>\n",
       "      <td>8756</td>\n",
       "    </tr>\n",
       "  </tbody>\n",
       "</table>\n",
       "</div>"
      ],
      "text/plain": [
       "   IdMovie  IdActor\n",
       "0        1    48068\n",
       "1        1    49592\n",
       "2        1     8756"
      ]
     },
     "execution_count": 23,
     "metadata": {},
     "output_type": "execute_result"
    }
   ],
   "source": [
    "Movie_Actor = pd.read_csv('./Tablas/Movie_Actor.csv')\n",
    "Movie_Actor.head(3)"
   ]
  },
  {
   "cell_type": "code",
   "execution_count": 24,
   "metadata": {},
   "outputs": [],
   "source": [
    "for i in range(Movie_Actor.shape[0]):\n",
    "    query =\"\"\"\n",
    "    INSERT INTO Movie_Actor (IdMovie, IdActor)\n",
    "    VALUES ({},{});\n",
    "    \"\"\".format(Movie_Actor.IdMovie.iloc[i],Movie_Actor.IdActor.iloc[i])\n",
    "    cur.execute(query)\n",
    "conn.commit()"
   ]
  },
  {
   "cell_type": "code",
   "execution_count": 25,
   "metadata": {},
   "outputs": [
    {
     "data": {
      "text/html": [
       "<div>\n",
       "<style scoped>\n",
       "    .dataframe tbody tr th:only-of-type {\n",
       "        vertical-align: middle;\n",
       "    }\n",
       "\n",
       "    .dataframe tbody tr th {\n",
       "        vertical-align: top;\n",
       "    }\n",
       "\n",
       "    .dataframe thead th {\n",
       "        text-align: right;\n",
       "    }\n",
       "</style>\n",
       "<table border=\"1\" class=\"dataframe\">\n",
       "  <thead>\n",
       "    <tr style=\"text-align: right;\">\n",
       "      <th></th>\n",
       "      <th>IdMovie</th>\n",
       "      <th>IdGenr</th>\n",
       "    </tr>\n",
       "  </thead>\n",
       "  <tbody>\n",
       "    <tr>\n",
       "      <th>0</th>\n",
       "      <td>1</td>\n",
       "      <td>79</td>\n",
       "    </tr>\n",
       "    <tr>\n",
       "      <th>1</th>\n",
       "      <td>1</td>\n",
       "      <td>110</td>\n",
       "    </tr>\n",
       "    <tr>\n",
       "      <th>2</th>\n",
       "      <td>2</td>\n",
       "      <td>7</td>\n",
       "    </tr>\n",
       "  </tbody>\n",
       "</table>\n",
       "</div>"
      ],
      "text/plain": [
       "   IdMovie  IdGenr\n",
       "0        1      79\n",
       "1        1     110\n",
       "2        2       7"
      ]
     },
     "execution_count": 25,
     "metadata": {},
     "output_type": "execute_result"
    }
   ],
   "source": [
    "Movie_Genr = pd.read_csv('./Tablas/Movie_Genr.csv')\n",
    "Movie_Genr.head(3)"
   ]
  },
  {
   "cell_type": "code",
   "execution_count": 26,
   "metadata": {},
   "outputs": [],
   "source": [
    "for i in range(Movie_Genr.shape[0]):\n",
    "    query =\"\"\"\n",
    "    INSERT INTO Movie_Genr (IdMovie, IdGenr)\n",
    "    VALUES ({},{});\n",
    "    \"\"\".format(Movie_Genr.IdMovie.iloc[i],Movie_Genr.IdGenr.iloc[i])\n",
    "    cur.execute(query)\n",
    "conn.commit()"
   ]
  },
  {
   "cell_type": "code",
   "execution_count": 27,
   "metadata": {},
   "outputs": [],
   "source": [
    "conn.close()"
   ]
  },
  {
   "cell_type": "markdown",
   "metadata": {},
   "source": [
    "## Hacer consultas a la base de datos"
   ]
  },
  {
   "cell_type": "code",
   "execution_count": 3,
   "metadata": {},
   "outputs": [],
   "source": [
    "# Creamos una conección a la base de datos\n",
    "conn = pymysql.connect(\n",
    "    host='localhost',\n",
    "    user='root',\n",
    "    passwd='1234567890',\n",
    "    database = 'streaming_platforms'\n",
    ")\n",
    "\n",
    "cur = conn.cursor()"
   ]
  },
  {
   "cell_type": "markdown",
   "metadata": {},
   "source": [
    "### Consulta 1"
   ]
  },
  {
   "cell_type": "code",
   "execution_count": 9,
   "metadata": {},
   "outputs": [
    {
     "data": {
      "text/plain": [
       "1"
      ]
     },
     "execution_count": 9,
     "metadata": {},
     "output_type": "execute_result"
    }
   ],
   "source": [
    "year = 2018\n",
    "platform = 'Hulu'\n",
    "type_ = 'Movie'\n",
    "time_unit = 'min'\n",
    "\n",
    "query = \"\"\"\n",
    "SELECT m.Title, max(Duration) as Duration\n",
    "FROM Movie m\n",
    "JOIN Platform p ON m.IdPlatform = p.IdPlatform\n",
    "JOIN Types t ON m.IdType = t.IdType\n",
    "WHERE m.ReleaseYear = {} AND p.Platform = '{}' AND t.Type = '{}' AND m.TimeUnit = '{}';\n",
    "\"\"\".format(year, platform, type_, time_unit)\n",
    "cur.execute(query)"
   ]
  },
  {
   "cell_type": "code",
   "execution_count": 10,
   "metadata": {},
   "outputs": [
    {
     "data": {
      "text/plain": [
       "(('This World Alone', 157),)"
      ]
     },
     "execution_count": 10,
     "metadata": {},
     "output_type": "execute_result"
    }
   ],
   "source": [
    "cur.fetchall()"
   ]
  },
  {
   "cell_type": "markdown",
   "metadata": {},
   "source": [
    "### Consulta 2"
   ]
  },
  {
   "cell_type": "code",
   "execution_count": 25,
   "metadata": {},
   "outputs": [
    {
     "data": {
      "text/plain": [
       "2"
      ]
     },
     "execution_count": 25,
     "metadata": {},
     "output_type": "execute_result"
    }
   ],
   "source": [
    "platform = 'NetFlix'\n",
    "\n",
    "query = \"\"\"\n",
    "SELECT t.Type, count(*)\n",
    "FROM Movie m\n",
    "JOIN Platform p ON m.IdPlatform = p.IdPlatform\n",
    "JOIN Types t ON m.IdType = t.IdType\n",
    "WHERE p.Platform = '{}'\n",
    "GROUP BY t.Type;\n",
    "\"\"\".format(platform)\n",
    "\n",
    "cur.execute(query)"
   ]
  },
  {
   "cell_type": "code",
   "execution_count": 26,
   "metadata": {},
   "outputs": [
    {
     "data": {
      "text/plain": [
       "(('Movie', 6131), ('TV Show', 2676))"
      ]
     },
     "execution_count": 26,
     "metadata": {},
     "output_type": "execute_result"
    }
   ],
   "source": [
    "cur.fetchall()"
   ]
  },
  {
   "cell_type": "markdown",
   "metadata": {},
   "source": [
    "### Consulta 3"
   ]
  },
  {
   "cell_type": "code",
   "execution_count": 29,
   "metadata": {},
   "outputs": [
    {
     "data": {
      "text/plain": [
       "1"
      ]
     },
     "execution_count": 29,
     "metadata": {},
     "output_type": "execute_result"
    }
   ],
   "source": [
    "genr = 'Comedy'\n",
    "query = \"\"\"\n",
    "SELECT a.Platform, max(a.Cantidad)\n",
    "FROM (\n",
    "    SELECT p.Platform, count(*) as Cantidad\n",
    "    FROM Movie m\n",
    "    JOIN Platform p ON m.IdPlatform = p.IdPlatform\n",
    "    JOIN Movie_Genr mg ON m.IdMovie = mg.IdMovie\n",
    "    JOIN Genr g ON mg.IdGenr = g.IdGenr\n",
    "    WHERE g.Genr = '{}'\n",
    "    GROUP BY p.Platform\n",
    "    ) AS a;\n",
    "\"\"\".format(genr)\n",
    "cur.execute(query)"
   ]
  },
  {
   "cell_type": "code",
   "execution_count": 30,
   "metadata": {},
   "outputs": [
    {
     "data": {
      "text/plain": [
       "(('Amazon', 2099),)"
      ]
     },
     "execution_count": 30,
     "metadata": {},
     "output_type": "execute_result"
    }
   ],
   "source": [
    "cur.fetchall()"
   ]
  },
  {
   "cell_type": "markdown",
   "metadata": {},
   "source": [
    "### Consulta 4"
   ]
  },
  {
   "cell_type": "code",
   "execution_count": 33,
   "metadata": {},
   "outputs": [
    {
     "data": {
      "text/plain": [
       "1"
      ]
     },
     "execution_count": 33,
     "metadata": {},
     "output_type": "execute_result"
    }
   ],
   "source": [
    "platform = 'Netflix'\n",
    "year = 2018\n",
    "query = \"\"\"\n",
    "SELECT a.Name, count(*) AS Cantidad\n",
    "FROM Movie m\n",
    "JOIN Platform p ON m.IdPlatform = p.IdPlatform\n",
    "JOIN Movie_Actor ma ON m.IdMovie = ma.IdMovie\n",
    "JOIN Actor a ON ma.IdActor = a.IdActor\n",
    "WHERE p.Platform = '{}' AND m.ReleaseYear = {} AND a.Name != 'No Info'\n",
    "GROUP BY a.Name\n",
    "ORDER BY Cantidad DESC\n",
    "LIMIT 1;\n",
    "\"\"\".format(platform, year)\n",
    "cur.execute(query)"
   ]
  },
  {
   "cell_type": "code",
   "execution_count": 34,
   "metadata": {},
   "outputs": [
    {
     "data": {
      "text/plain": [
       "(('Andrea Libman', 8),)"
      ]
     },
     "execution_count": 34,
     "metadata": {},
     "output_type": "execute_result"
    }
   ],
   "source": [
    "cur.fetchall()"
   ]
  }
 ],
 "metadata": {
  "hide_input": false,
  "kernelspec": {
   "display_name": "Python 3",
   "language": "python",
   "name": "python3"
  },
  "language_info": {
   "codemirror_mode": {
    "name": "ipython",
    "version": 3
   },
   "file_extension": ".py",
   "mimetype": "text/x-python",
   "name": "python",
   "nbconvert_exporter": "python",
   "pygments_lexer": "ipython3",
   "version": "3.7.1"
  }
 },
 "nbformat": 4,
 "nbformat_minor": 2
}
